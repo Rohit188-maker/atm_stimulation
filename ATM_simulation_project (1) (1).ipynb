{
 "cells": [
  {
   "cell_type": "code",
   "execution_count": 1,
   "id": "yCBgnE4Ts4Tz",
   "metadata": {
    "colab": {
     "base_uri": "https://localhost:8080/"
    },
    "id": "yCBgnE4Ts4Tz",
    "outputId": "91f180d8-f811-4782-d7e0-fd8d9cd8b4bc"
   },
   "outputs": [
    {
     "name": "stdout",
     "output_type": "stream",
     "text": [
      "\n",
      "            ***** Welcome To ATM Machine Simulator *****\n",
      "         \n"
     ]
    },
    {
     "name": "stdin",
     "output_type": "stream",
     "text": [
      "Enter Your Pin:  65566\n"
     ]
    },
    {
     "name": "stdout",
     "output_type": "stream",
     "text": [
      "\n",
      "              Options you can Excercise are:\n",
      "              1) Balance\n",
      "              2) Withdraw\n",
      "              3) Deposit\n",
      "              4) Exit\n",
      "         \n"
     ]
    },
    {
     "name": "stdin",
     "output_type": "stream",
     "text": [
      "choice:  2\n",
      " please Enter the amount you want to withdraw:  60000\n"
     ]
    },
    {
     "name": "stdout",
     "output_type": "stream",
     "text": [
      "Insufficient balance\n",
      "\n",
      "              Options you can Excercise are:\n",
      "              1) Balance\n",
      "              2) Withdraw\n",
      "              3) Deposit\n",
      "              4) Exit\n",
      "         \n"
     ]
    },
    {
     "name": "stdin",
     "output_type": "stream",
     "text": [
      "choice:  4\n"
     ]
    },
    {
     "name": "stdout",
     "output_type": "stream",
     "text": [
      "Thank you for using ATM Machine\n"
     ]
    }
   ],
   "source": [
    "# prompt: def atm_simulation():\n",
    "\n",
    "def atm_simulation():\n",
    "    balance=10000\n",
    "    correct_pin = 65566\n",
    "    print('''\n",
    "            ***** Welcome To ATM Machine Simulator *****\n",
    "         ''')\n",
    "    pin=int(input('Enter Your Pin: '))\n",
    "    if pin!=correct_pin:\n",
    "      print(\"Incorrect pin\")\n",
    "      print(\"Thank you\")\n",
    "      return\n",
    "    while True:\n",
    "      print('''\n",
    "              Options you can Excercise are:\n",
    "              1) Balance\n",
    "              2) Withdraw\n",
    "              3) Deposit\n",
    "              4) Exit\n",
    "         ''')\n",
    "      choice=int(input('choice: '))\n",
    "      if choice==1:\n",
    "        print(\"Your balance is:\",balance)\n",
    "      elif choice==2:\n",
    "        amount=int(input(' please Enter the amount you want to withdraw: '))\n",
    "        if amount>balance:\n",
    "          print(\"Insufficient balance\")\n",
    "        else:\n",
    "          balance-=amount\n",
    "          print(\"Your remaining balance is:\",balance)\n",
    "      elif choice==3:\n",
    "        amount=int(input('Enter the amount you want to deposit: '))\n",
    "        balance+=amount\n",
    "        print(\"Your updated balance is:\",balance)\n",
    "      elif choice==4:\n",
    "        print(\"Thank you for using ATM Machine\")\n",
    "        break\n",
    "      else:\n",
    "        print(\"Invalid choice\")\n",
    "\n",
    "atm_simulation()\n",
    "\n",
    "\n"
   ]
  },
  {
   "cell_type": "code",
   "execution_count": null,
   "id": "1e0f315a-4f8b-4a55-af6f-a18c54bc0365",
   "metadata": {},
   "outputs": [],
   "source": []
  }
 ],
 "metadata": {
  "colab": {
   "provenance": []
  },
  "kernelspec": {
   "display_name": "Python 3 (ipykernel)",
   "language": "python",
   "name": "python3"
  },
  "language_info": {
   "codemirror_mode": {
    "name": "ipython",
    "version": 3
   },
   "file_extension": ".py",
   "mimetype": "text/x-python",
   "name": "python",
   "nbconvert_exporter": "python",
   "pygments_lexer": "ipython3",
   "version": "3.11.7"
  }
 },
 "nbformat": 4,
 "nbformat_minor": 5
}
